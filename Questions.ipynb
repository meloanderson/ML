{
 "cells": [
  {
   "attachments": {},
   "cell_type": "markdown",
   "metadata": {},
   "source": [
    "## 1) Escolha uma base de dados. Essa base deve ser multivariada e possuir uma variável objetivo, que pode ser usada na fase de treino (modelos supervisionados) e/ou na validação do modelo (modelos supervisionados e não-supervisionados)."
   ]
  },
  {
   "attachments": {},
   "cell_type": "markdown",
   "metadata": {},
   "source": [
    "Utilizado a base proposta pelo professor."
   ]
  },
  {
   "attachments": {},
   "cell_type": "markdown",
   "metadata": {},
   "source": [
    "## 2) A partir da base escolhida, você irá aplicar as etapas do modelo CRISP de desenvolvimento de projetos em Ciência de Dados:"
   ]
  },
  {
   "attachments": {},
   "cell_type": "markdown",
   "metadata": {},
   "source": [
    "### a. Explique a origem dos dados e o motivo para a escolha. Descreva, também, como os dados foram obtidos. Essa é a fase de COMPREENSÃO DO NEGÓCIO."
   ]
  },
  {
   "attachments": {},
   "cell_type": "markdown",
   "metadata": {},
   "source": [
    "- A base utilizada foi a de Vinhos proposta pelo professor utilizada em outros exercícios.\n",
    "- Disponível em: https://www.kaggle.com/datasets/rajyellow46/wine-quality"
   ]
  },
  {
   "attachments": {},
   "cell_type": "markdown",
   "metadata": {},
   "source": [
    "### b. Descreva as variáveis do problema e o tipo de cada uma (categórica ou numérica). \n",
    "- As respostas para essa questão estão no arquivo Data-Dictionary\n",
    "\n",
    "Tipos de cada variável:\n",
    "- Type: Categórica\n",
    "- Fixed_Acidity: Discreta\n",
    "- Fixed_Acidity: Discreta\n",
    "- Volatile_Acidity: Contínua\n",
    "- Citric_Acid: Contínua\n",
    "- Residual_Sugar: Contínua\n",
    "- Chlorides: Contínua\n",
    "- Free_Sulfur_Dioxide: Discreta\n",
    "- Total_Sulfur_Dioxide: Discreta\n",
    "- Density: Contínua\n",
    "- pH: Contínua\n",
    "- Sulphates: Contínua\n",
    "- Alcohol: Contínua\n",
    "- Quality: Discreta\n",
    "- Opinion: Categórica"
   ]
  },
  {
   "attachments": {},
   "cell_type": "markdown",
   "metadata": {},
   "source": [
    "### b. Mostre a distribuição (usando um histograma) para cada uma delas. Comente sobre a faixa dinâmica de cada uma delas. Essa é a fase de COMPREENSÃO DOS DADOS.\n",
    "- As respostas para essa questão estão em hw_ana_anderson_douglas_neural.html"
   ]
  },
  {
   "attachments": {},
   "cell_type": "markdown",
   "metadata": {},
   "source": [
    "### c. Descreva o objetivo do modelo que será criado neste projeto.\n",
    "- A finalidade do modelo é realizar a categorização de vinhos brancos em termos de qualidade, distinguindo entre os considerados bons e ruins, utilizando redes neurais com base em suas características."
   ]
  },
  {
   "attachments": {},
   "cell_type": "markdown",
   "metadata": {},
   "source": [
    "### d. Agora faça o tratamento de dados necessários para o treinamento: escalonamento, normalização, transformação de variável (ex: aplicar a função log em uma variável com distribuição exponencial), separação entre treino e teste… Você deve optar pelas tarefas necessárias, descrevendo cada uma delas e justificando o motivo. Essa é a fase PREPARAÇÃO DOS DADOS.\n",
    "- As respostas para essa questão estão em hw_ana_anderson_douglas_neural.html\n"
   ]
  },
  {
   "attachments": {},
   "cell_type": "markdown",
   "metadata": {},
   "source": [
    "### e. Agora defina o modelo de redes neural do tipo MLP que você irá utilizar. Essa é a fase de MODELAGEM:\n",
    "\n",
    "**I. Quantas camadas?**\n",
    "- São 3 camadas ao total  "
   ]
  },
  {
   "attachments": {},
   "cell_type": "markdown",
   "metadata": {},
   "source": [
    "**II. Quantos neurônios na camada de entrada?**\n",
    "- Uma camada de entrada com 11 inputs sem PCA\n",
    "- Uma camada de entrada com 5 inputs com PCA. Com apenas 5 componentes explicamos aproximadamente 80% dos dados da base."
   ]
  },
  {
   "attachments": {},
   "cell_type": "markdown",
   "metadata": {},
   "source": [
    "**III.Quantos neurônios na camada de saída? Justifique.**\n",
    "- Um único neurônio na camada de saída com a função de ativação sigmoid, produzindo uma saída contínua entre 0 e 1."
   ]
  },
  {
   "attachments": {},
   "cell_type": "markdown",
   "metadata": {},
   "source": [
    "**IV.Quantos números de neurônios na camada intermediária? Como esse número foi escolhido?**\n",
    "- Foram utilizados 15 neurônios na camada intermediária, sendo o número escolhido de forma aleatória. Embora uma quantidade maior de neurônios seja ideal, isso resultaria em um aumento significativo no tempo de processamento. Portanto, a escolha de 15 neurônios foi uma decisão baseada em um compromisso entre a capacidade da rede neural e a eficiência computacional. "
   ]
  },
  {
   "attachments": {},
   "cell_type": "markdown",
   "metadata": {},
   "source": [
    "**V. Qual será o algoritmo utilizado no treinamento?**\n",
    "- MLPClassifierWrapper | Keras-based MLP (multi-layer perceptron) classifier"
   ]
  },
  {
   "attachments": {},
   "cell_type": "markdown",
   "metadata": {},
   "source": [
    "**VI. Qual a função de ativação será utilizada em cada camada? Justifique.**\n",
    "- Camada intermediária: tanh\n",
    "- Camada de saída: sigmoid"
   ]
  },
  {
   "attachments": {},
   "cell_type": "markdown",
   "metadata": {},
   "source": [
    "**VII. Qual a função de otimização será utilizada neste treinamento?**\n",
    " - A função de otimização foi 'sgd'"
   ]
  },
  {
   "attachments": {},
   "cell_type": "markdown",
   "metadata": {},
   "source": [
    "**VIII. Quais serão as figuras de mérito que serão usadas na avaliação do modelo. Justifique.**\n",
    "- O F1 score fornece uma avaliação abrangente do desempenho do modelo"
   ]
  },
  {
   "attachments": {},
   "cell_type": "markdown",
   "metadata": {},
   "source": [
    "### f. Apresente os seguintes resultados:\n",
    "**I. A matriz de confusão do problema**\n",
    "- As respostas para essa questão estão em hw_ana_anderson_douglas_neural.html"
   ]
  },
  {
   "attachments": {},
   "cell_type": "markdown",
   "metadata": {},
   "source": [
    "**II. O(s) histograma(s) da(s) saída(s) da rede neural**\n",
    "- As respostas para essa questão estão em hw_ana_anderson_douglas_neural.html"
   ]
  },
  {
   "attachments": {},
   "cell_type": "markdown",
   "metadata": {},
   "source": [
    "**III. Os valores das figuras de métrica utilizadas.**\n",
    "- As respostas para essa questão estão em hw_ana_anderson_douglas_neural.html"
   ]
  },
  {
   "attachments": {},
   "cell_type": "markdown",
   "metadata": {},
   "source": [
    "**IV. Caso tenha utilizado validação cruzada no treino, apresente as incertezas para cada um dos resultados anteriores.**\n",
    "- As respostas para essa questão estão em hw_ana_anderson_douglas_neural.html"
   ]
  },
  {
   "attachments": {},
   "cell_type": "markdown",
   "metadata": {},
   "source": [
    "### g. Avalie os resultados, dando sua interpretação de acordo com a compreensão da natureza do problema proposto. Essa é a fase de AVALIAÇÃO DO MODELO.\n",
    "Decidimos realizar diferentes tratamentos na base de dados para avaliar a melhor abordagem. Utilizamos o modelo de rede neural com variações, incluindo a base original, a base com aplicação do Log na variável residual_sugar (distribuição exponencial) e a base com normalização (L1 e L2). Também experimentamos as opções com e sem PCA.\n",
    "\n",
    "O melhor desempenho em termos de F1 Score foi obtido com a rede neural de 7 neurônios na camada intermediária utilizando a base original (79.645%). No entanto, a aplicação do PCA não resultou em uma melhoria na métrica F1 Score, utilizada como critério de avaliação.\n",
    "\n",
    "Além disso, notamos que o uso da normalização teve um impacto negativo no F1 Score.\n"
   ]
  }
 ],
 "metadata": {
  "kernelspec": {
   "display_name": "base",
   "language": "python",
   "name": "python3"
  },
  "language_info": {
   "codemirror_mode": {
    "name": "ipython",
    "version": 3
   },
   "file_extension": ".py",
   "mimetype": "text/x-python",
   "name": "python",
   "nbconvert_exporter": "python",
   "pygments_lexer": "ipython3",
   "version": "3.9.12"
  },
  "orig_nbformat": 4
 },
 "nbformat": 4,
 "nbformat_minor": 2
}
